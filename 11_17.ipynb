{
  "nbformat": 4,
  "nbformat_minor": 0,
  "metadata": {
    "colab": {
      "provenance": [],
      "authorship_tag": "ABX9TyNf08N20+4gSMhqiKc2YIdy",
      "include_colab_link": true
    },
    "kernelspec": {
      "name": "python3",
      "display_name": "Python 3"
    },
    "language_info": {
      "name": "python"
    }
  },
  "cells": [
    {
      "cell_type": "markdown",
      "metadata": {
        "id": "view-in-github",
        "colab_type": "text"
      },
      "source": [
        "<a href=\"https://colab.research.google.com/github/yunariver/newproject/blob/main/11_17.ipynb\" target=\"_parent\"><img src=\"https://colab.research.google.com/assets/colab-badge.svg\" alt=\"Open In Colab\"/></a>"
      ]
    },
    {
      "cell_type": "code",
      "execution_count": 8,
      "metadata": {
        "colab": {
          "base_uri": "https://localhost:8080/"
        },
        "id": "eGF66vL10WG5",
        "outputId": "739b1d1d-0d30-40fc-dba4-c6b3e4d8bc14"
      },
      "outputs": [
        {
          "output_type": "stream",
          "name": "stdout",
          "text": [
            "<class 'torch.Tensor'> torch.Size([8, 2]) torch.float32\n",
            "<class 'torch.Tensor'> torch.Size([8]) torch.float32\n"
          ]
        }
      ],
      "source": [
        "from sklearn.datasets import make_blobs\n",
        "import torch\n",
        "from torch.utils.data import TensorDataset, DataLoader\n",
        "\n",
        "n_samples = 300\n",
        "X, y = make_blobs(n_samples = n_samples, centers=2,\n",
        "                  n_features=2, cluster_std=0.7)\n",
        "\n",
        "dataset = TensorDataset(torch.FloatTensor(X), torch.FloatTensor(y))\n",
        "# FloatTensor 클래스. 데이터셋을 32비트로 만들어줌. 외우기\n",
        "\n",
        "BATCH_SIZE = 8\n",
        "dataloader = DataLoader(dataset, batch_size= BATCH_SIZE)\n",
        "# 전체 데이터셋에서, 배치사이즈에 따라서 데이터를 뽑아서 미니배치로 뽑아\n",
        "for X_, y_ in dataloader:\n",
        "  print(type(X_), X_.shape, X_.dtype)\n",
        "  print(type(y_), y_.shape, y_.dtype)\n",
        "\n",
        "  break\n",
        "\n"
      ]
    },
    {
      "cell_type": "code",
      "source": [
        "from sklearn.datasets import make_moons\n",
        "import torch\n",
        "from torch.utils.data import TensorDataset, DataLoader\n",
        "\n",
        "n_samples = 300\n",
        "X, y = make_moons(n_samples = n_samples, noise = 0.2)\n",
        "dataset = TensorDataset(torch.FloatTensor(X), torch.FloatTensor(y))\n",
        "BATCH_SIZE = 16\n",
        "\n",
        "dataloader = DataLoader(dataset, batch_size=BATCH_SIZE)\n",
        "\n",
        "for X_, y_ in dataloader:\n",
        "  print(type(X_),X_.shape, X_.dtype)\n",
        "  print(type(y_), y_.shape, y_.dtype)\n",
        "  break"
      ],
      "metadata": {
        "colab": {
          "base_uri": "https://localhost:8080/"
        },
        "id": "K-LhXPqZ-4Qq",
        "outputId": "03cbf3b9-7be3-4043-cf42-94d325d34b64"
      },
      "execution_count": 11,
      "outputs": [
        {
          "output_type": "stream",
          "name": "stdout",
          "text": [
            "<class 'torch.Tensor'> torch.Size([16, 2]) torch.float32\n",
            "<class 'torch.Tensor'> torch.Size([16]) torch.float32\n"
          ]
        }
      ]
    },
    {
      "cell_type": "code",
      "source": [
        "dataset = TensorDataset(torch.FloatTensor(X), torch.FloatTensor(y))\n",
        "\n",
        "dataset = TensorDataset(torch.FloatTensor(X), torch.FloatTensor(y))\n",
        "\n",
        "dataset = TensorDataset(torch.FloatTensor(X), torch.FloatTensor(y))"
      ],
      "metadata": {
        "id": "a2DR2eg-_wd5"
      },
      "execution_count": null,
      "outputs": []
    },
    {
      "cell_type": "code",
      "source": [
        "import torch.nn as nn\n",
        "fc = nn.Linear(in_features = 8, out_features = 4)\n",
        "\n",
        "print(fc.weight.shape)\n",
        "print(fc.bias.shape)"
      ],
      "metadata": {
        "colab": {
          "base_uri": "https://localhost:8080/"
        },
        "id": "x7SwGcL4AkP-",
        "outputId": "db983551-cd6e-45b3-9f25-cacb42bea354"
      },
      "execution_count": 16,
      "outputs": [
        {
          "output_type": "stream",
          "name": "stdout",
          "text": [
            "torch.Size([4, 8])\n",
            "torch.Size([4])\n"
          ]
        }
      ]
    },
    {
      "cell_type": "code",
      "source": [
        "\n",
        "import torch\n",
        "import torch.nn as nn\n",
        "\n",
        "\n",
        "test_input = torch.randn(size=(16,8))\n",
        "fc = nn.Linear(in_features=8, out_features= 4)\n",
        "test_output = fc(test_input)\n",
        "\n",
        "print(test_input.shape)\n",
        "print(test_output.shape)"
      ],
      "metadata": {
        "colab": {
          "base_uri": "https://localhost:8080/"
        },
        "id": "w8zwLwhFDELI",
        "outputId": "4eed654e-e788-475e-ebb6-ec0a6bc9742d"
      },
      "execution_count": 18,
      "outputs": [
        {
          "output_type": "stream",
          "name": "stdout",
          "text": [
            "torch.Size([16, 8])\n",
            "torch.Size([16, 4])\n"
          ]
        }
      ]
    },
    {
      "cell_type": "code",
      "source": [
        "test_input = torch.randn(size=(2,3))\n",
        "sigmoid = nn.Sigmoid()\n",
        "test_output = sigmoid(test_input)\n",
        "\n",
        "print ( \"=====Test input=======\")\n",
        "print ( test_input)\n",
        "print (\"=====nn.Sigmoid Output====\")\n",
        "print(test_output)\n",
        "print(\"=======Manual Computation====\")\n",
        "print(1/ (1+torch.exp(-test_input)))"
      ],
      "metadata": {
        "colab": {
          "base_uri": "https://localhost:8080/"
        },
        "id": "dqsBTZVnEMRw",
        "outputId": "5f74ec23-863d-44a6-cf37-621a0fbc02aa"
      },
      "execution_count": 22,
      "outputs": [
        {
          "output_type": "stream",
          "name": "stdout",
          "text": [
            "=====Test input=======\n",
            "tensor([[ 0.5081,  0.2354,  0.1195],\n",
            "        [ 0.0231, -0.6388, -0.8488]])\n",
            "=====nn.Sigmoid Output====\n",
            "tensor([[0.6244, 0.5586, 0.5299],\n",
            "        [0.5058, 0.3455, 0.2997]])\n",
            "=======Manual Computation====\n",
            "tensor([[0.6244, 0.5586, 0.5299],\n",
            "        [0.5058, 0.3455, 0.2997]])\n"
          ]
        }
      ]
    },
    {
      "cell_type": "code",
      "source": [
        "test_pred = torch.tensor([0.8])\n",
        "test_y = torch.tensor([1.])\n",
        "\n",
        "loss_function = nn.BCELoss()\n",
        "test_output = loss_function(test_pred, test_y)\n",
        "\n",
        "print ( \"=====Test input=======\")\n",
        "print (\"pred:\",  test_pred)\n",
        "print(\"y:\", test_y)\n",
        "print (\"=====nn.BCELoss Output====\")\n",
        "print(test_output)\n",
        "print(\"=======Manual Computation====\")\n",
        "print(-(test_y * torch.log(test_pred)+(1-test_y) * torch.log(1-test_pred)))"
      ],
      "metadata": {
        "colab": {
          "base_uri": "https://localhost:8080/"
        },
        "id": "5injh5tiFbqf",
        "outputId": "edededc3-5576-4f15-dd69-e1841f337d8d"
      },
      "execution_count": 25,
      "outputs": [
        {
          "output_type": "stream",
          "name": "stdout",
          "text": [
            "=====Test input=======\n",
            "pred: tensor([0.8000])\n",
            "y: tensor([1.])\n",
            "=====nn.BCELoss Output====\n",
            "tensor(0.2231)\n",
            "=======Manual Computation====\n",
            "tensor([0.2231])\n"
          ]
        }
      ]
    },
    {
      "cell_type": "code",
      "source": [
        "import torch.nn as nn\n",
        "class Model(nn.Module):\n",
        "  def __init__(self):\n",
        "    super(Model, self).__init__()\n",
        "\n",
        "  def forward(self, x):\n",
        "    pass\n",
        ""
      ],
      "metadata": {
        "id": "NHUmGVX-KUvf"
      },
      "execution_count": 27,
      "outputs": []
    },
    {
      "cell_type": "code",
      "source": [
        "class Model(nn.Module):\n",
        "  def __init__(self):\n",
        "    super(Model, self).__init__()\n",
        "\n",
        "  def forward(self, x):\n",
        "    pass"
      ],
      "metadata": {
        "id": "D0JcNLemKsAg"
      },
      "execution_count": 29,
      "outputs": []
    },
    {
      "cell_type": "code",
      "source": [
        "class Model(nn.Module):\n",
        "  def __init__(self):\n",
        "    super(Model, self).__init__()\n",
        "  def forward(self, x):\n",
        "    pass"
      ],
      "metadata": {
        "id": "_be8_Gq_K4xX"
      },
      "execution_count": 30,
      "outputs": []
    },
    {
      "cell_type": "code",
      "source": [
        "class Model(nn.Module):\n",
        "  def __init__(self):\n",
        "    super(Model, self).__init__()\n",
        "  def forward(self):\n",
        "    pass\n",
        "\n",
        "class Model(nn.Module):\n",
        "  def __init__(self):\n",
        "    super(Model, self).__init__()\n",
        "\n",
        "\n",
        "\n",
        "class Model(nn.Module):\n",
        "  def __init__(self):\n",
        "    super(Model, self).__init__()\n",
        "\n"
      ],
      "metadata": {
        "id": "oG-mIePwLEde"
      },
      "execution_count": null,
      "outputs": []
    },
    {
      "cell_type": "code",
      "source": [
        "import torch\n",
        "import torch.nn as nn\n",
        "\n",
        "\n",
        "# torch_input = torch.randn(size=(10, 5))\n",
        "# test_y = torch.randn(size=(10,1)\n",
        "# fc = nn.Linear(in_features = 5, out_features =2)\n",
        "# z = fc(torch_input)\n",
        "\n",
        "# print(z.shape)\n",
        "# sigmoid = nn.Sigmoid()\n",
        "# a = sigmoid(z)\n",
        "\n",
        "\n",
        "\n",
        "\n",
        "# class Neuron(nn.Module):\n",
        "#   def __init__(self, in_, out_):\n",
        "#     super(Model, self).__init__()\n",
        "\n",
        "#     self.fc = nn.Linear(in_features =in_ , out_features =out_)\n",
        "#     self.sigmoid = nn.Sigmoid()\n",
        "\n",
        "#   def forward(self, x):\n",
        "#       z = self.fc(x)\n",
        "#       a = self.sigmoid(z)\n",
        "#       return a\n",
        "\n",
        "\n",
        "class MLP(nn.Module):\n",
        "  def __init__(self):\n",
        "    super(Model, self).__init__()\n",
        "    self.fc1 = nn.Linear(in_features = 10, out_features= 5)\n",
        "    self.fc1_act = nn.Sigmoid()\n",
        "\n",
        "    self.fc2 = nn.Linear(in_features = 5, out_features= 2)\n",
        "    self.fc2_act = nn.Sigmoid()\n",
        "\n",
        "    self.fc3 = nn.Linear(in_features = 2, out_features= 1)\n",
        "    self.fc3_act = nn.Sigmoid()\n",
        "\n",
        "# 시그모이드 하나만 쓰면, 안됨!!\n",
        "# object는 데이터+method. 각자 가지고 있는데이터들이 다른 것!!!\n",
        "\n",
        "  def forward(self, x):\n",
        "\n",
        "    x = self.fc1(x)\n",
        "    x = self.fc1.act(x)\n",
        "\n",
        "    x = self.fc2(x)\n",
        "    x = self.fc1.act(x)\n",
        "\n",
        "    x = self.fc3(x)\n",
        "    x = self.fc3.act(x)\n",
        "    return x\n",
        "\n",
        "\n",
        "\n",
        "\n"
      ],
      "metadata": {
        "id": "GLhdhvUbL6wd"
      },
      "execution_count": 43,
      "outputs": []
    },
    {
      "cell_type": "code",
      "source": [
        "from sklearn.datasets import make_blobs\n",
        "import torch\n",
        "import torch.nn as nn\n",
        "from torch.utils.data import TensorDataset, DataLoader\n",
        "\n",
        "n_samples = 100\n",
        "BATCH_SIZE = 8\n",
        "\n",
        "X, y = make_blobs(n_samples = n_samples, centers=2,\n",
        "                  n_features=2, cluster_std=0.5, random_state = 0)\n",
        "\n",
        "dataset = TensorDataset(torch.FloatTensor(X), torch.FloatTensor(y))\n",
        "dataloader = DataLoader(dataset=dataset, batch_size=BATCH_SIZE)\n",
        "\n",
        "class SimpleModel(nn.Module):\n",
        "  def __init__(self):\n",
        "    super(SimpleModel, self).__init__()\n",
        "\n",
        "    self.fc = nn.Linear(in_features = 2, out_features = 1)\n",
        "    self.fc_act = nn.Sigmoid()\n",
        "\n",
        "  def forward(self, x):\n",
        "    x = self.fc(x)\n",
        "    x = self.fc_act(x)\n",
        "    x = x.view(-1)\n",
        "\n",
        "    return x\n",
        "\n",
        "\n",
        "\n"
      ],
      "metadata": {
        "id": "NhQALGdoNXO2"
      },
      "execution_count": 63,
      "outputs": []
    },
    {
      "cell_type": "code",
      "source": [
        "from torch.optim import SGD\n",
        "\n",
        "LR = 0.1\n",
        "\n",
        "if torch.cuda.is_available(): DEVICE = 'cuda'\n",
        "elif torch.backends.mps.is_available(): DEVICE = 'mps'\n",
        "else : DEVICE = 'cpu'\n",
        "\n",
        "model = SimpleModel().to(DEVICE)\n",
        "loss_function = nn.BCELoss()\n",
        "optimizer = SGD(model.parameters(), lr=LR)"
      ],
      "metadata": {
        "id": "CqEZ5HnQv7RR"
      },
      "execution_count": 64,
      "outputs": []
    },
    {
      "cell_type": "code",
      "source": [
        "\n",
        "\n",
        "EPOCHS = 10\n",
        "losses, accs = [], []\n",
        "for epoch in range(EPOCHS):\n",
        "  epoch_loss = 0.\n",
        "  n_corrects = 0\n",
        "  for X, y in dataloader:\n",
        "    X, y = X.to(DEVICE), y.to(DEVICE)\n",
        "\n",
        "    pred = model(X)\n",
        "    loss = loss_function(pred, y)\n",
        "\n",
        "    optimizer.zero_grad()\n",
        "    loss.backward()\n",
        "    optimizer.step()\n",
        "\n",
        "    epoch_loss += loss.item() * len(X)\n",
        "    pred = (pred > 0.5).type(torch.float)\n",
        "    n_corrects += (pred == y).sum().item()\n",
        "\n",
        "\n",
        "  epoch_loss /= n_samples\n",
        "  losses.append(epoch_loss)\n",
        "  epoch_acc = n_corrects / n_samples\n",
        "  accs.append(epoch_acc)\n",
        "\n",
        "  print(f\"Epoch :{epoch + 1}\")\n",
        "  print(f\"Loss: {epoch_loss: .4f}\\n\")\n",
        "\n",
        "\n",
        "import matplotlib.pyplot as plt\n",
        "\n",
        "\n",
        "fig, axes  = plt.subplots(2,1)\n",
        "axes[0].plot(losses)\n",
        "axes[0].set_ylabel('Loss')\n",
        "axes[1].plot(accs)\n",
        "axes[1].set_ylabel('Accuracy')\n",
        "plt.show()\n",
        "\n",
        ""
      ],
      "metadata": {
        "colab": {
          "base_uri": "https://localhost:8080/",
          "height": 983
        },
        "id": "5FoRCPXfw8vK",
        "outputId": "2ca10030-49f1-4c68-a8f9-bad22b971dca"
      },
      "execution_count": 77,
      "outputs": [
        {
          "output_type": "stream",
          "name": "stdout",
          "text": [
            "Epoch :1\n",
            "Loss:  0.0163\n",
            "\n",
            "Epoch :2\n",
            "Loss:  0.0162\n",
            "\n",
            "Epoch :3\n",
            "Loss:  0.0161\n",
            "\n",
            "Epoch :4\n",
            "Loss:  0.0160\n",
            "\n",
            "Epoch :5\n",
            "Loss:  0.0159\n",
            "\n",
            "Epoch :6\n",
            "Loss:  0.0158\n",
            "\n",
            "Epoch :7\n",
            "Loss:  0.0157\n",
            "\n",
            "Epoch :8\n",
            "Loss:  0.0156\n",
            "\n",
            "Epoch :9\n",
            "Loss:  0.0155\n",
            "\n",
            "Epoch :10\n",
            "Loss:  0.0154\n",
            "\n"
          ]
        },
        {
          "output_type": "display_data",
          "data": {
            "text/plain": [
              "<Figure size 640x480 with 2 Axes>"
            ],
            "image/png": "[encoded data removed]"
          },
          "metadata": {}
        }
      ]
    },
    {
      "cell_type": "code",
      "source": [
        "EPOCHS = 10\n",
        "N_SAMPLES = 100\n",
        "losses, accs = [], []\n",
        "for epoch in range(EPOCHS):\n",
        " epoch_loss, n_corrects = 0., 0\n",
        " for X, y in dataloader:\n",
        "  X, y = X.to(DEVICE), y.to(DEVICE)\n",
        "  pred = model(X)\n",
        "  loss = loss_function(pred, y)\n",
        "  optimizer.zero_grad()\n",
        "  loss.backward()\n",
        "  optimizer.step()\n",
        "  epoch_loss += loss.item() * len(X)\n",
        "  pred = (pred > 0.5).type(torch.float)\n",
        "  n_corrects += (pred == y).sum().item()\n",
        " epoch_loss /= N_SAMPLES\n",
        " losses.append(epoch_loss)\n",
        " epoch_acc = n_corrects / N_SAMPLES\n",
        " accs.append(epoch_acc)\n",
        " print(f\"Epoch: {epoch + 1}\")\n",
        " print(f\"Loss: {epoch_loss:.4f} - Acc: {epoch_acc:.4f}\\n\")\n",
        "\n",
        "import matplotlib.pyplot as plt\n",
        "fig, axes = plt.subplots(2, 1, figsize=(10, 5))\n",
        "axes[0].plot(losses)\n",
        "axes[1].plot(accs)\n",
        "axes[1].set_xlabel(\"Epoch\", fontsize=15)\n",
        "axes[0].set_ylabel(\"BCE Loss\", fontsize=15)\n",
        "axes[1].set_ylabel(\"Accuracy\", fontsize=15)\n",
        "axes[0].tick_params(labelsize=10)\n",
        "axes[1].tick_params(labelsize=10)\n",
        "fig.tight_layout()\n",
        "plt.show()\n"
      ],
      "metadata": {
        "colab": {
          "base_uri": "https://localhost:8080/",
          "height": 1000
        },
        "id": "MkmTckaj6av4",
        "outputId": "ef239549-4a7d-4acb-9de8-72d619f822e8"
      },
      "execution_count": 82,
      "outputs": [
        {
          "output_type": "stream",
          "name": "stdout",
          "text": [
            "Epoch: 1\n",
            "Loss: 0.0153 - Acc: 1.0000\n",
            "\n",
            "Epoch: 2\n",
            "Loss: 0.0152 - Acc: 1.0000\n",
            "\n",
            "Epoch: 3\n",
            "Loss: 0.0151 - Acc: 1.0000\n",
            "\n",
            "Epoch: 4\n",
            "Loss: 0.0150 - Acc: 1.0000\n",
            "\n",
            "Epoch: 5\n",
            "Loss: 0.0149 - Acc: 1.0000\n",
            "\n",
            "Epoch: 6\n",
            "Loss: 0.0148 - Acc: 1.0000\n",
            "\n",
            "Epoch: 7\n",
            "Loss: 0.0147 - Acc: 1.0000\n",
            "\n",
            "Epoch: 8\n",
            "Loss: 0.0147 - Acc: 1.0000\n",
            "\n",
            "Epoch: 9\n",
            "Loss: 0.0146 - Acc: 1.0000\n",
            "\n",
            "Epoch: 10\n",
            "Loss: 0.0145 - Acc: 1.0000\n",
            "\n"
          ]
        },
        {
          "output_type": "display_data",
          "data": {
            "text/plain": [
              "<Figure size 1000x500 with 2 Axes>"
            ],
            "image/png": "[encoded data removed]"
          },
          "metadata": {}
        }
      ]
    },
    {
      "cell_type": "code",
      "source": [
        "EPOCHS = 10\n",
        "accs = []\n",
        "for epoch in range(EPOCHS):\n",
        "  n_corrects = 0\n",
        "  for X, y in dataloader:\n",
        "    X, y = X.to(DEVICE), y.to(DEVICE)\n",
        "\n",
        "    pred = model(X)\n",
        "    loss = loss_function(pred, y)\n",
        "\n",
        "    optimizer.zero_grad()\n",
        "    loss.backward()\n",
        "    optimizer.step()\n",
        "\n",
        "    pred = (pred> 0.5).type(torch.float) #0.5보다 크면 1 (TRUE)\n",
        "    n_corrects += (pred == y).sum().item() # .item() 은 텐서 float타입을  Python integer로 바꿔줌"
      ],
      "metadata": {
        "id": "ZVqjflkoxxko"
      },
      "execution_count": null,
      "outputs": []
    },
    {
      "cell_type": "code",
      "source": [],
      "metadata": {
        "id": "Xwxf1YKZ9tL7"
      },
      "execution_count": null,
      "outputs": []
    }
  ]
}