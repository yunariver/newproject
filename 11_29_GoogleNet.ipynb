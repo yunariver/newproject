{
  "nbformat": 4,
  "nbformat_minor": 0,
  "metadata": {
    "colab": {
      "provenance": [],
      "authorship_tag": "ABX9TyO6Q2PkUdie/oAX09UjoU//",
      "include_colab_link": true
    },
    "kernelspec": {
      "name": "python3",
      "display_name": "Python 3"
    },
    "language_info": {
      "name": "python"
    }
  },
  "cells": [
    {
      "cell_type": "markdown",
      "metadata": {
        "id": "view-in-github",
        "colab_type": "text"
      },
      "source": [
        "<a href=\"https://colab.research.google.com/github/yunariver/newproject/blob/main/11_29_GoogleNet.ipynb\" target=\"_parent\"><img src=\"https://colab.research.google.com/assets/colab-badge.svg\" alt=\"Open In Colab\"/></a>"
      ]
    },
    {
      "cell_type": "code",
      "execution_count": 7,
      "metadata": {
        "id": "4J51_A-zqUzq"
      },
      "outputs": [],
      "source": [
        "import torch.nn as nn\n",
        "import torch\n",
        "\n",
        "class ConvBlock(nn.Module):\n",
        "  def __init__(self, in_channels, out_channels, kernel_size, padding=0, stride=1):\n",
        "    super(ConvBlock, self).__init__()\n",
        "\n",
        "    self.conv = nn.Conv2d(in_channels=in_channels, out_channels=out_channels,\n",
        "              kernel_size=kernel_size, padding=padding, stride = stride )\n",
        "    self.relu = nn.ReLU()\n",
        "\n",
        "  def forward(self, x):\n",
        "    x = self.conv(x)\n",
        "    x = self.relu(x)\n",
        "\n",
        "    return x\n",
        "\n",
        "\n",
        ""
      ]
    },
    {
      "cell_type": "code",
      "source": [],
      "metadata": {
        "id": "snSJUtrprTsP"
      },
      "execution_count": 4,
      "outputs": []
    },
    {
      "cell_type": "code",
      "source": [
        "from torchsummary import summary\n",
        "branch = ConvBlock(3, 10, 3 )\n",
        "summary(branch, input_size=(3, 32,32))"
      ],
      "metadata": {
        "id": "i6xrU9GVrs4B"
      },
      "execution_count": 8,
      "outputs": []
    },
    {
      "cell_type": "code",
      "source": [],
      "metadata": {
        "id": "9OlzR7s4wrq5"
      },
      "execution_count": null,
      "outputs": []
    },
    {
      "cell_type": "code",
      "source": [
        "H, W = 100, 100\n",
        "channels = 192\n",
        "input_tensor = torch.randn(size=(channels, H, W))\n",
        "\n",
        "\n",
        "branch1 = ConvBlock(in_channels=192, out_channels=64,\n",
        "                    kernel_size=1)\n",
        "out_branch1 = branch1(input_tensor)\n",
        "\n",
        "branch2 = ConvBlock(in_channels=192, out_channels=128,\n",
        "                    kernel_size=3, padding=1)\n",
        "out_branch2 = branch2(input_tensor)\n",
        "branch3 = ConvBlock(in_channels=192, out_channels=32,\n",
        "                    kernel_size=5, padding=2)\n",
        "out_branch3 = branch3(input_tensor)\n",
        "\n",
        "branch4 = nn.MaxPool2d(kernel_size=3, padding=1, stride=1)\n",
        "out_branch4 = branch4(input_tensor)\n",
        "\n",
        "out_inception = torch.concat([out_branch1, out_branch2, out_branch3, out_branch4 ], axis=0)\n",
        "\n",
        "print(out_branch1.shape, out_branch2.shape,out_branch3.shape,out_branch4.shape)\n",
        "print(\"inception output\", out_inception.shape)"
      ],
      "metadata": {
        "colab": {
          "base_uri": "https://localhost:8080/"
        },
        "id": "_4nGo5YtsXEJ",
        "outputId": "79887269-7425-47f8-cec0-1e17d2b217d2"
      },
      "execution_count": 12,
      "outputs": [
        {
          "output_type": "stream",
          "name": "stdout",
          "text": [
            "torch.Size([64, 100, 100]) torch.Size([128, 100, 100]) torch.Size([32, 100, 100]) torch.Size([192, 100, 100])\n",
            "inception output torch.Size([416, 100, 100])\n"
          ]
        }
      ]
    },
    {
      "cell_type": "code",
      "source": [],
      "metadata": {
        "id": "oUwHWWR023Rb"
      },
      "execution_count": null,
      "outputs": []
    }
  ]
}