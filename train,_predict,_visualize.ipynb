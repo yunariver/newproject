{
  "nbformat": 4,
  "nbformat_minor": 0,
  "metadata": {
    "colab": {
      "provenance": [],
      "authorship_tag": "ABX9TyP+FMBWFBR6xC+DwaJ/cHtc",
      "include_colab_link": true
    },
    "kernelspec": {
      "name": "python3",
      "display_name": "Python 3"
    },
    "language_info": {
      "name": "python"
    }
  },
  "cells": [
    {
      "cell_type": "markdown",
      "metadata": {
        "id": "view-in-github",
        "colab_type": "text"
      },
      "source": [
        "<a href=\"https://colab.research.google.com/github/yunariver/newproject/blob/main/train%2C_predict%2C_visualize.ipynb\" target=\"_parent\"><img src=\"https://colab.research.google.com/assets/colab-badge.svg\" alt=\"Open In Colab\"/></a>"
      ]
    },
    {
      "cell_type": "code",
      "source": [],
      "metadata": {
        "id": "ZnWgnDqevrhW"
      },
      "execution_count": null,
      "outputs": []
    },
    {
      "cell_type": "markdown",
      "source": [
        "dtml.ipynb 뒷 부분 이어서 하기."
      ],
      "metadata": {
        "id": "oLn614YE2uw2"
      }
    },
    {
      "cell_type": "markdown",
      "source": [
        "Train 함수 정의"
      ],
      "metadata": {
        "id": "ACLj7lM4vp3d"
      }
    },
    {
      "cell_type": "code",
      "execution_count": null,
      "metadata": {
        "id": "8NTcU0gKfG4T"
      },
      "outputs": [],
      "source": [
        "from tqdm import tqdm\n",
        "import numpy as np\n",
        "\n",
        "import torch.nn as nn\n",
        "from torch import FloatTensor\n",
        "from torch.utils.data import TensorDataset, DataLoader\n",
        "from torch.optim import SGD, lr_scheduler\n",
        "import os\n",
        "\n",
        "#src_data는 데이터 시퀀스(에, 5일치 데이)\n",
        "# tgt_data : target data(output window size의 데이터),\n",
        "\n",
        "def train(model, EPOCHS, LR, BATCH_SIZE, src_data, tgt_data,LR_DECAY_RATE = 0.9999, SAVE_PATH = 'result'):\n",
        "\n",
        "  loss_function = nn.MSELoss()\n",
        "  optimizer = SGD(model.parameters(), lr=LR)\n",
        "  #scheduler → 학습을 하면서 learning late 조절해줌\n",
        "  scheduler = lr_scheduler.LambdaLR(optimizer=optimizer,\n",
        "                                  lr_lambda=lambda epoch: LR_DECAY_RATE ** epoch,\n",
        "                                  verbose=False)\n",
        "\n",
        "  losses = []\n",
        "  for epoch in range(EPOCHS):\n",
        "    loss_epoch = 0\n",
        "    for i in range(0, num_samples, batch_size):\n",
        "        src_batch = src_data[i:i+batch_size].transpose(0, 1)\n",
        "        tgt_batch = tgt_data[i:i+batch_size].transpose(0, 1)\n",
        "\n",
        "\n",
        "        pred = model(src_batch, tgt_batch[:-1])#모델 parameter에 맞춰야함.\n",
        "        loss = loss_function(pred, tgt_batch[1:])\n",
        "\n",
        "        optimizer.zero_grad()\n",
        "        loss.backward()\n",
        "        optimizer.step()\n",
        "        loss_epoch += loss.item() * len(x_) #length 확인 필요\n",
        "      scheduler.step()\n",
        "\n",
        "\n",
        "  #result 디렉토리가 새로 생기면서 png, csv 파일이 저장됨\n",
        "  os.makedirs(SAVE_PATH, exist_ok=True)\n",
        "\n",
        "  vis_losses_pred(x, y, losses, model, device, save_path=SAVE_PATH)\n",
        "  save_losses_to_csv(losses, SAVE_PATH)\n"
      ]
    },
    {
      "cell_type": "code",
      "source": [
        "def predict( )\n",
        "\n",
        "\n"
      ],
      "metadata": {
        "id": "uHRh8J-Zg71g"
      },
      "execution_count": null,
      "outputs": []
    },
    {
      "cell_type": "markdown",
      "source": [
        "시각화 함수"
      ],
      "metadata": {
        "id": "BBF7CgIPykxC"
      }
    },
    {
      "cell_type": "code",
      "source": [
        "def vis_prices(stock_prices, output, input_seq_len, num_days):\n",
        "  plt.plot(stock_prices.values, label='Actual Stock Prices', marker='o') #실제 주식 가격\n",
        "  plt.plot(output, label='Predicted Stock Prices', marker='x') #예측 주식 가격\n",
        "\n",
        "  plt.xlabel('Date')\n",
        "  plt.ylabel('Stock Price')\n",
        "  plt.title('Actual vs Predicted Stock Prices')\n",
        "  plt.legend()\n",
        "  plt.show()"
      ],
      "metadata": {
        "id": "_taW4BVFhLhg"
      },
      "execution_count": null,
      "outputs": []
    },
    {
      "cell_type": "code",
      "source": [
        "def plot_results(test, preds, df, image_path=None, title_suffix= None):\n",
        "  #데이터는 파란색, 실제값은 빨간색, 예측값은 초록색\n",
        "  fig, ax = plt.subplots(figsize=(20, 6))\n",
        "  plot_test =  test"
      ],
      "metadata": {
        "id": "9sgohq8_jf0I"
      },
      "execution_count": null,
      "outputs": []
    },
    {
      "cell_type": "markdown",
      "source": [
        "LOSS 시각화"
      ],
      "metadata": {
        "id": "P3kfk9ACu_Ix"
      }
    },
    {
      "cell_type": "code",
      "source": [
        "def save_losses_to_csv(losses, save_path):\n",
        "    losses = pd.Series(name='losses', data=losses)\n",
        "    losses.to_csv(os.path.join(save_path, 'result.csv'))"
      ],
      "metadata": {
        "id": "j2e3vjQUvCBG"
      },
      "execution_count": null,
      "outputs": []
    }
  ]
}