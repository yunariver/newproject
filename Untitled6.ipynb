{
  "nbformat": 4,
  "nbformat_minor": 0,
  "metadata": {
    "colab": {
      "provenance": [],
      "authorship_tag": "ABX9TyMMDCC6ygePlckZqC5MqV12",
      "include_colab_link": true
    },
    "kernelspec": {
      "name": "python3",
      "display_name": "Python 3"
    },
    "language_info": {
      "name": "python"
    }
  },
  "cells": [
    {
      "cell_type": "markdown",
      "metadata": {
        "id": "view-in-github",
        "colab_type": "text"
      },
      "source": [
        "<a href=\"https://colab.research.google.com/github/yunariver/newproject/blob/main/Untitled6.ipynb\" target=\"_parent\"><img src=\"https://colab.research.google.com/assets/colab-badge.svg\" alt=\"Open In Colab\"/></a>"
      ]
    },
    {
      "cell_type": "code",
      "source": [
        "from geopy.geocoders import Nominatim\n"
      ],
      "metadata": {
        "id": "bGXHggbB2De2"
      },
      "execution_count": 1,
      "outputs": []
    },
    {
      "cell_type": "code",
      "execution_count": 2,
      "metadata": {
        "id": "jiVvuWzU0mCf"
      },
      "outputs": [],
      "source": [
        "\n",
        "def geocoding(address):\n",
        "  geolocoder = Nominatim(user_agent = 'South Korea', timeout=None)\n",
        "  geo = geolocoder.geocode(address)\n",
        "\n",
        "  return geo.latitude, geo.longitude\n",
        "\n",
        "\n"
      ]
    },
    {
      "cell_type": "code",
      "source": [
        "address = '서울 강남구 테헤란로 152 22층 150호'"
      ],
      "metadata": {
        "id": "-qkJ3Rmh2JVF"
      },
      "execution_count": 16,
      "outputs": []
    },
    {
      "cell_type": "code",
      "source": [
        "\n",
        "split_address = address.split()\n",
        "print(split_address)\n",
        "\n",
        "def merged(split_address):\n",
        "  merged_address = []\n",
        "  for i in range(len(split_address)):\n",
        "    merged = ' '.join(split_address[:-(i+1)])\n",
        "    merged_address.append(merged)\n",
        "  return merged_address\n",
        "merged_address = merged(split_address)\n",
        "print(merged_address)\n"
      ],
      "metadata": {
        "colab": {
          "base_uri": "https://localhost:8080/"
        },
        "id": "36VAmtjO2G4B",
        "outputId": "b666ddd7-a4aa-4170-b493-9ad9d958c4a3"
      },
      "execution_count": 17,
      "outputs": [
        {
          "output_type": "stream",
          "name": "stdout",
          "text": [
            "['서울', '강남구', '테헤란로', '152', '22층', '150호']\n",
            "['서울 강남구 테헤란로 152 22층', '서울 강남구 테헤란로 152', '서울 강남구 테헤란로', '서울 강남구', '서울', '']\n"
          ]
        }
      ]
    },
    {
      "cell_type": "code",
      "source": [
        "def get_from_address(adress):\n",
        "  try : a, b =geocoding(address)\n",
        "  except AttributeError :\n",
        "    split_address = address.split()\n",
        "    merged_addresses = merged(split_address)\n",
        "    for _address in merged_addresses:\n",
        "      try :\n",
        "\n",
        "        a, b = geocoding(_address)\n",
        "        break\n",
        "\n",
        "      except AttributeError : continue\n",
        "  return a, b\n",
        "\n"
      ],
      "metadata": {
        "colab": {
          "base_uri": "https://localhost:8080/"
        },
        "id": "sRC1UZBI2bIg",
        "outputId": "08cc93e7-80c4-47c6-931a-4dffb8e10f24"
      },
      "execution_count": 19,
      "outputs": [
        {
          "output_type": "stream",
          "name": "stdout",
          "text": [
            "서울 강남구 테헤란로 152\n",
            "37.5000673 127.0366267\n"
          ]
        }
      ]
    },
    {
      "cell_type": "code",
      "source": [
        "result['위도'], result['경도'] = zip(*result['주소'].apply(get_from_address))"
      ],
      "metadata": {
        "id": "aVcOWpzO4ira"
      },
      "execution_count": null,
      "outputs": []
    }
  ]
}